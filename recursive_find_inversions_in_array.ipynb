{
 "cells": [
  {
   "cell_type": "markdown",
   "metadata": {},
   "source": [
    "The file `IntegerArray.txt` contains all of the 100,000 integers between 1 and 100,000 (inclusive) in some order, with no integer repeated.\n",
    "\n",
    "Your task is to compute the number of inversions in the file given, where the $i^{th}$ row of the file indicates the $i^{th}$ entry of an array.\n",
    "\n",
    "Because of the large size of this array, you should implement the fast divide-and-conquer algorithm covered in the video lectures.\n",
    "\n",
    "TIP: before submitting, first test the correctness of your program on some small test files or your own devising."
   ]
  },
  {
   "cell_type": "code",
   "execution_count": 1,
   "metadata": {},
   "outputs": [],
   "source": [
    "import numpy as np"
   ]
  },
  {
   "cell_type": "code",
   "execution_count": 7,
   "metadata": {},
   "outputs": [],
   "source": [
    "def merge_and_count_split_inv(C, D):\n",
    "    \n",
    "    B = np.empty(len(C) + len(D))\n",
    "    m = len(C)\n",
    "    lenD = len(D)\n",
    "    i = 0\n",
    "    j = 0\n",
    "    splitInv = 0\n",
    "    for k in range(len(C) + len(D)): \n",
    "        # check if there is no more D\n",
    "        if (j == lenD and i < m):\n",
    "            B[k] = C[i]\n",
    "            i += 1\n",
    "            continue\n",
    "            \n",
    "        elif i == m:\n",
    "            # copy the rest of D into output array B\n",
    "            B[k] = D[j]\n",
    "            j += 1\n",
    "            splitInv += m - i \n",
    "            continue\n",
    "\n",
    "        else:\n",
    "            if C[i] < D[j]:\n",
    "                B[k] = C[i]\n",
    "                i += 1\n",
    "            else:\n",
    "                B[k] = D[j]\n",
    "                j += 1\n",
    "                splitInv += m - i\n",
    "                \n",
    "    return (B, splitInv)"
   ]
  },
  {
   "cell_type": "code",
   "execution_count": 8,
   "metadata": {},
   "outputs": [
    {
     "data": {
      "text/plain": [
       "(array([ 2995., 25260., 60660.]), 2)"
      ]
     },
     "execution_count": 8,
     "metadata": {},
     "output_type": "execute_result"
    }
   ],
   "source": [
    "C = np.array([25260, 60660])\n",
    "D = np.array([2995])\n",
    "merge_and_count_split_inv(C, D) "
   ]
  },
  {
   "cell_type": "code",
   "execution_count": 9,
   "metadata": {},
   "outputs": [
    {
     "data": {
      "text/plain": [
       "(array([ 2., 14., 25., 29., 53., 54., 60., 79.]), 10)"
      ]
     },
     "execution_count": 9,
     "metadata": {},
     "output_type": "execute_result"
    }
   ],
   "source": [
    "C = np.array([14, 29, 54, 79])\n",
    "D = np.array([2, 25, 53, 60])\n",
    "merge_and_count_split_inv(C, D) "
   ]
  },
  {
   "cell_type": "markdown",
   "metadata": {},
   "source": [
    "Example 1:"
   ]
  },
  {
   "cell_type": "code",
   "execution_count": 10,
   "metadata": {},
   "outputs": [
    {
     "name": "stdout",
     "output_type": "stream",
     "text": [
      "[1, 3, 5] [2, 4, 6]\n"
     ]
    },
    {
     "data": {
      "text/plain": [
       "(array([1., 2., 3., 4., 5., 6.]), 3)"
      ]
     },
     "execution_count": 10,
     "metadata": {},
     "output_type": "execute_result"
    }
   ],
   "source": [
    "A = [1, 3, 5, 2, 4, 6]\n",
    "C = A[: len(A) // 2]\n",
    "D = A[len(A) // 2 :]\n",
    "print(C, D)\n",
    "merge_and_count_split_inv(C, D)"
   ]
  },
  {
   "cell_type": "markdown",
   "metadata": {},
   "source": [
    "Example 2:"
   ]
  },
  {
   "cell_type": "code",
   "execution_count": 11,
   "metadata": {},
   "outputs": [
    {
     "name": "stdout",
     "output_type": "stream",
     "text": [
      "[0 1] [2]\n"
     ]
    },
    {
     "data": {
      "text/plain": [
       "(array([0., 1., 2.]), 0)"
      ]
     },
     "execution_count": 11,
     "metadata": {},
     "output_type": "execute_result"
    }
   ],
   "source": [
    "C = np.array([0, 1])\n",
    "D = np.array([2])\n",
    "print(C, D)\n",
    "merge_and_count_split_inv(C, D)"
   ]
  },
  {
   "cell_type": "markdown",
   "metadata": {},
   "source": [
    "Example 3:"
   ]
  },
  {
   "cell_type": "code",
   "execution_count": 18,
   "metadata": {},
   "outputs": [],
   "source": [
    "def sort_and_count_inv(A):\n",
    "    n = np.int( len( A ))\n",
    "    \n",
    "    # stop cases\n",
    "    if n < 2:\n",
    "        return (A, 0)\n",
    "    \n",
    "    # base case\n",
    "    elif n == 2:\n",
    "        aa = np.empty(2)\n",
    "        if A[1] < A[0]:\n",
    "            aa[0] = A[1]\n",
    "            aa[1] = A[0]\n",
    "            return (aa, 1)\n",
    "        else:\n",
    "            return (A, 0)\n",
    "    \n",
    "    # if n is odd\n",
    "    elif n % 2 != 0:\n",
    "        # return sorted first half of A\n",
    "        (C, leftInv) = sort_and_count_inv(A[: n // 2 + 1 ])\n",
    "        (D, rightInv) = sort_and_count_inv(A[n // 2 + 1 :])\n",
    "        (B, splitInv) = merge_and_count_split_inv(C, D)\n",
    "        \n",
    "        return (B, leftInv + rightInv + splitInv)\n",
    "    \n",
    "    else:\n",
    "        # return sorted first half of A\n",
    "        (C, leftInv) = sort_and_count_inv(A[: n // 2])\n",
    "        # return sorted second hald of A\n",
    "        (D, rightInv) = sort_and_count_inv(A[n // 2 :])\n",
    "        # return sorted input array A and number of split inversions\n",
    "        (B, splitInv) = merge_and_count_split_inv(C, D)\n",
    "        \n",
    "        return (B, leftInv + rightInv + splitInv)"
   ]
  },
  {
   "cell_type": "code",
   "execution_count": 19,
   "metadata": {},
   "outputs": [
    {
     "name": "stdout",
     "output_type": "stream",
     "text": [
      "[54044 14108 79294 29649 25260 60660  2995 53777]\n"
     ]
    },
    {
     "data": {
      "text/plain": [
       "(array([ 2995., 14108., 25260., 29649., 53777., 54044., 60660., 79294.]), 16)"
      ]
     },
     "execution_count": 19,
     "metadata": {},
     "output_type": "execute_result"
    }
   ],
   "source": [
    "print(A)\n",
    "sort_and_count_inv(A)"
   ]
  },
  {
   "cell_type": "markdown",
   "metadata": {},
   "source": [
    "Example 2:"
   ]
  },
  {
   "cell_type": "code",
   "execution_count": 20,
   "metadata": {},
   "outputs": [
    {
     "data": {
      "text/plain": [
       "array([54044, 14108, 79294, 29649])"
      ]
     },
     "execution_count": 20,
     "metadata": {},
     "output_type": "execute_result"
    }
   ],
   "source": [
    "a = np.fromfile('IntegerArray.txt', sep='\\n', dtype=np.int)\n",
    "a = a[:4]\n",
    "a"
   ]
  },
  {
   "cell_type": "code",
   "execution_count": 21,
   "metadata": {},
   "outputs": [
    {
     "data": {
      "text/plain": [
       "(array([14108., 29649., 54044., 79294.]), 3)"
      ]
     },
     "execution_count": 21,
     "metadata": {},
     "output_type": "execute_result"
    }
   ],
   "source": [
    "sort_and_count_inv(a)"
   ]
  },
  {
   "cell_type": "markdown",
   "metadata": {},
   "source": [
    "Example 2:"
   ]
  },
  {
   "cell_type": "code",
   "execution_count": 22,
   "metadata": {},
   "outputs": [
    {
     "name": "stdout",
     "output_type": "stream",
     "text": [
      "[54044 14108 79294 29649 25260 60660  2995 53777]\n"
     ]
    },
    {
     "data": {
      "text/plain": [
       "(array([ 2995., 14108., 25260., 29649., 53777., 54044., 60660., 79294.]), 16)"
      ]
     },
     "execution_count": 22,
     "metadata": {},
     "output_type": "execute_result"
    }
   ],
   "source": [
    "A = np.fromfile('IntegerArray.txt', sep='\\n', dtype=np.int)\n",
    "A = A[:8]\n",
    "print(A)\n",
    "sort_and_count_inv(A)"
   ]
  },
  {
   "cell_type": "markdown",
   "metadata": {},
   "source": [
    "Example 3:"
   ]
  },
  {
   "cell_type": "code",
   "execution_count": 23,
   "metadata": {
    "scrolled": false
   },
   "outputs": [
    {
     "data": {
      "text/plain": [
       "(array([1.0000e+00, 2.0000e+00, 3.0000e+00, ..., 9.9998e+04, 9.9999e+04,\n",
       "        1.0000e+05]), 2407905288)"
      ]
     },
     "execution_count": 23,
     "metadata": {},
     "output_type": "execute_result"
    }
   ],
   "source": [
    "a = np.fromfile('IntegerArray.txt', sep='\\n', dtype=np.int)\n",
    "sort_and_count_inv(a)"
   ]
  },
  {
   "cell_type": "code",
   "execution_count": null,
   "metadata": {},
   "outputs": [],
   "source": []
  },
  {
   "cell_type": "code",
   "execution_count": null,
   "metadata": {},
   "outputs": [],
   "source": []
  },
  {
   "cell_type": "code",
   "execution_count": 2,
   "metadata": {},
   "outputs": [],
   "source": [
    "def Merge(C, D):\n",
    "    B = np.empty(len(C)*2)\n",
    "    m = len(C)\n",
    "    i = 0\n",
    "    j = 0\n",
    "    \n",
    "    for k in range(len(C)*2):\n",
    "        print(i, j, k)\n",
    "        if i == m:\n",
    "            # copy the rest of D into output array B\n",
    "            B[k] = D[j]\n",
    "            j += 1\n",
    "            continue\n",
    "        elif j == m:\n",
    "            # copy the rest of C into output array B\n",
    "            B[k] = C[i]\n",
    "            i += 1\n",
    "            continue\n",
    "        else:\n",
    "            if C[i] < D[j]:\n",
    "                B[k] = C[i]\n",
    "                i += 1\n",
    "            else:\n",
    "                B[k] = D[j]\n",
    "                j += 1\n",
    "                \n",
    "    return B"
   ]
  },
  {
   "cell_type": "code",
   "execution_count": 3,
   "metadata": {},
   "outputs": [
    {
     "name": "stdout",
     "output_type": "stream",
     "text": [
      "0 0 0\n",
      "1 0 1\n",
      "2 0 2\n",
      "2 1 3\n",
      "2 2 4\n",
      "2 3 5\n",
      "3 3 6\n",
      "3 4 7\n"
     ]
    },
    {
     "data": {
      "text/plain": [
       "array([1., 2., 3., 4., 5., 6., 7., 8.])"
      ]
     },
     "execution_count": 3,
     "metadata": {},
     "output_type": "execute_result"
    }
   ],
   "source": [
    "C = np.array([1, 2, 6, 8])\n",
    "D = np.array([3, 4, 5, 7])\n",
    "\n",
    "Merge(C, D)"
   ]
  },
  {
   "cell_type": "code",
   "execution_count": 4,
   "metadata": {},
   "outputs": [],
   "source": [
    "def MergeSort(A):\n",
    "    \n",
    "    n = np.int( len(A) )\n",
    "    print('n: ', n)\n",
    "    # base case\n",
    "    if n < 2:\n",
    "        return A\n",
    "    \n",
    "    \n",
    "    else:\n",
    "    \n",
    "        # recursively sort first half of A\n",
    "        C = MergeSort(A[: n // 2])\n",
    "        print('C: ', C)\n",
    "        # recursively sort second half of A\n",
    "        D = MergeSort(A[n // 2 :])\n",
    "        print('D: ', D)\n",
    "        \n",
    "        \n",
    "        return Merge(C, D)"
   ]
  },
  {
   "cell_type": "markdown",
   "metadata": {},
   "source": [
    "Example 1:"
   ]
  },
  {
   "cell_type": "code",
   "execution_count": 5,
   "metadata": {},
   "outputs": [
    {
     "data": {
      "text/plain": [
       "array([54044, 14108, 79294, 29649])"
      ]
     },
     "execution_count": 5,
     "metadata": {},
     "output_type": "execute_result"
    }
   ],
   "source": [
    "A = np.fromfile('IntegerArray.txt', sep='\\n', dtype=np.int)\n",
    "A = A[:4]\n",
    "A"
   ]
  },
  {
   "cell_type": "code",
   "execution_count": 6,
   "metadata": {},
   "outputs": [
    {
     "name": "stdout",
     "output_type": "stream",
     "text": [
      "n:  4\n",
      "n:  2\n",
      "n:  1\n",
      "C:  [54044]\n",
      "n:  1\n",
      "D:  [14108]\n",
      "0 0 0\n",
      "0 1 1\n",
      "C:  [14108. 54044.]\n",
      "n:  2\n",
      "n:  1\n",
      "C:  [79294]\n",
      "n:  1\n",
      "D:  [29649]\n",
      "0 0 0\n",
      "0 1 1\n",
      "D:  [29649. 79294.]\n",
      "0 0 0\n",
      "1 0 1\n",
      "1 1 2\n",
      "2 1 3\n"
     ]
    },
    {
     "data": {
      "text/plain": [
       "array([14108., 29649., 54044., 79294.])"
      ]
     },
     "execution_count": 6,
     "metadata": {},
     "output_type": "execute_result"
    }
   ],
   "source": [
    "MergeSort(A)"
   ]
  },
  {
   "cell_type": "code",
   "execution_count": null,
   "metadata": {},
   "outputs": [],
   "source": []
  },
  {
   "cell_type": "code",
   "execution_count": null,
   "metadata": {},
   "outputs": [],
   "source": []
  },
  {
   "cell_type": "code",
   "execution_count": null,
   "metadata": {},
   "outputs": [],
   "source": []
  }
 ],
 "metadata": {
  "kernelspec": {
   "display_name": "Python 3",
   "language": "python",
   "name": "python3"
  },
  "language_info": {
   "codemirror_mode": {
    "name": "ipython",
    "version": 3
   },
   "file_extension": ".py",
   "mimetype": "text/x-python",
   "name": "python",
   "nbconvert_exporter": "python",
   "pygments_lexer": "ipython3",
   "version": "3.6.7"
  }
 },
 "nbformat": 4,
 "nbformat_minor": 2
}
