{
 "cells": [
  {
   "cell_type": "markdown",
   "metadata": {},
   "source": [
    "## Assignment 1\n",
    "\n",
    "To get the most out of this assignment, your program should restrict itself to multiplying only pairs of single-digit numbers. You can implement the grade-school algorithm if you want, but to get the most out of the assignment you'll want to implement recursive integer multiplication and/or Karatsuba's algorithm.\n",
    "\n",
    "\n",
    "So: what's the product of the following two 64-digit numbers?\n",
    "\n",
    "3141592653589793238462643383279502884197169399375105820974944592\n",
    "\n",
    "2718281828459045235360287471352662497757247093699959574966967627\n"
   ]
  },
  {
   "cell_type": "code",
   "execution_count": 1,
   "metadata": {},
   "outputs": [],
   "source": [
    "import numpy as np"
   ]
  },
  {
   "cell_type": "code",
   "execution_count": 2,
   "metadata": {},
   "outputs": [],
   "source": [
    "def recursive_mult(x, y):\n",
    "    nx = len(str(x))\n",
    "    ny = len(str(y))\n",
    "    \n",
    "    if nx == 1 and ny == 1:\n",
    "        return np.int( x*y )\n",
    "    else:\n",
    "        if nx != 1:\n",
    "           # if nx is odd\n",
    "            if nx % 2 != 0:                \n",
    "                a = np.int( str(x)[: np.int( nx / 2 + 1)] )\n",
    "                b = np.int( str(x)[np.int( nx / 2 + 1) : ] )\n",
    "                \n",
    "            # if nx is even    \n",
    "            else:\n",
    "                a = np.int( str(x)[: np.int( nx / 2 )] )\n",
    "                b = np.int( str(x)[np.int( nx / 2) : ] )    \n",
    "                \n",
    "        # x is a single number        \n",
    "        else:\n",
    "            a = x\n",
    "            b = np.int( 0.0 )\n",
    "            n = nx\n",
    "            \n",
    "        if ny != 1:    \n",
    "            # if ny is odd\n",
    "            if ny % 2 != 0:                   \n",
    "                c = np.int( str(y)[: np.int( ny / 2 + 1)] )\n",
    "                d = np.int( str(y)[np.int( ny / 2 + 1) : ] )\n",
    "            \n",
    "            # if ny is even\n",
    "            else:\n",
    "                c = np.int( str(y)[: np.int( ny / 2 )] )\n",
    "                d = np.int( str(y)[np.int( ny / 2) : ] )\n",
    "                \n",
    "        # y is a single number    \n",
    "        else:\n",
    "            c = y\n",
    "            d = np.int( 0.0 )\n",
    "            n = ny\n",
    "            \n",
    "        # recursively compute 4 products\n",
    "        ac = recursive_mult(a, c)\n",
    "        ad = recursive_mult(a, d)\n",
    "        cb = recursive_mult(c, b)\n",
    "        bd = recursive_mult(b, d)\n",
    "\n",
    "        # compute and return x*y   \n",
    "        # compute the product with a recursive formula\n",
    "        # 10 ** nx/2 * 10 ** ny/2 * ac + 10**nx/2 * ad + 10**ny/2 * cb + bd\n",
    "        \n",
    "        return 10**np.int(nx / 2) * 10**np.int(ny/2) * ac + 10**np.int(nx/2)*ad + 10**np.int(ny/2) * cb + bd"
   ]
  },
  {
   "cell_type": "markdown",
   "metadata": {},
   "source": [
    "Example 1:"
   ]
  },
  {
   "cell_type": "code",
   "execution_count": 3,
   "metadata": {},
   "outputs": [],
   "source": [
    "x = 314\n",
    "y = 271"
   ]
  },
  {
   "cell_type": "code",
   "execution_count": 4,
   "metadata": {},
   "outputs": [
    {
     "data": {
      "text/plain": [
       "True"
      ]
     },
     "execution_count": 4,
     "metadata": {},
     "output_type": "execute_result"
    }
   ],
   "source": [
    "x * y == recursive_mult(x, y)"
   ]
  },
  {
   "cell_type": "markdown",
   "metadata": {},
   "source": [
    "Example 2:"
   ]
  },
  {
   "cell_type": "code",
   "execution_count": 5,
   "metadata": {},
   "outputs": [
    {
     "data": {
      "text/plain": [
       "True"
      ]
     },
     "execution_count": 5,
     "metadata": {},
     "output_type": "execute_result"
    }
   ],
   "source": [
    "x = 473\n",
    "y = 1099\n",
    "\n",
    "x * y == recursive_mult(x, y)"
   ]
  },
  {
   "cell_type": "markdown",
   "metadata": {},
   "source": [
    "Example 3:"
   ]
  },
  {
   "cell_type": "code",
   "execution_count": 6,
   "metadata": {},
   "outputs": [
    {
     "data": {
      "text/plain": [
       "True"
      ]
     },
     "execution_count": 6,
     "metadata": {},
     "output_type": "execute_result"
    }
   ],
   "source": [
    "x = 3141\n",
    "y = 2718\n",
    "\n",
    "x * y == recursive_mult(x, y)"
   ]
  },
  {
   "cell_type": "markdown",
   "metadata": {},
   "source": [
    "Example 4:"
   ]
  },
  {
   "cell_type": "code",
   "execution_count": 7,
   "metadata": {},
   "outputs": [
    {
     "data": {
      "text/plain": [
       "True"
      ]
     },
     "execution_count": 7,
     "metadata": {},
     "output_type": "execute_result"
    }
   ],
   "source": [
    "x = 31415\n",
    "y = 27182\n",
    "x * y == recursive_mult(x, y)"
   ]
  },
  {
   "cell_type": "markdown",
   "metadata": {},
   "source": [
    "Example 5:"
   ]
  },
  {
   "cell_type": "code",
   "execution_count": 8,
   "metadata": {},
   "outputs": [
    {
     "data": {
      "text/plain": [
       "True"
      ]
     },
     "execution_count": 8,
     "metadata": {},
     "output_type": "execute_result"
    }
   ],
   "source": [
    "x = 314159\n",
    "y = 271828\n",
    "x * y == recursive_mult(x, y)"
   ]
  },
  {
   "cell_type": "markdown",
   "metadata": {},
   "source": [
    "Example 6:"
   ]
  },
  {
   "cell_type": "code",
   "execution_count": 9,
   "metadata": {},
   "outputs": [
    {
     "data": {
      "text/plain": [
       "True"
      ]
     },
     "execution_count": 9,
     "metadata": {},
     "output_type": "execute_result"
    }
   ],
   "source": [
    "x = 3141592653589793238462643383279502884197169399375105820974944592\n",
    "y = 2718281828459045235360287471352662497757247093699959574966967627\n",
    "\n",
    "x * y == recursive_mult(x, y)"
   ]
  }
 ],
 "metadata": {
  "kernelspec": {
   "display_name": "Python 3",
   "language": "python",
   "name": "python3"
  },
  "language_info": {
   "codemirror_mode": {
    "name": "ipython",
    "version": 3
   },
   "file_extension": ".py",
   "mimetype": "text/x-python",
   "name": "python",
   "nbconvert_exporter": "python",
   "pygments_lexer": "ipython3",
   "version": "3.6.7"
  }
 },
 "nbformat": 4,
 "nbformat_minor": 2
}
