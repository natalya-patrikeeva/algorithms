{
 "cells": [
  {
   "cell_type": "code",
   "execution_count": 1,
   "metadata": {},
   "outputs": [],
   "source": [
    "import matplotlib.pyplot as plt\n",
    "%matplotlib notebook\n",
    "\n",
    "import numpy as np"
   ]
  },
  {
   "cell_type": "code",
   "execution_count": 84,
   "metadata": {},
   "outputs": [
    {
     "data": {
      "text/plain": [
       "(9,)"
      ]
     },
     "execution_count": 84,
     "metadata": {},
     "output_type": "execute_result"
    }
   ],
   "source": [
    "n = np.arange(1, 10.)\n",
    "\n",
    "n.shape\n"
   ]
  },
  {
   "cell_type": "code",
   "execution_count": 85,
   "metadata": {},
   "outputs": [
    {
     "name": "stderr",
     "output_type": "stream",
     "text": [
      "/Users/nrapstine/anaconda3/envs/tensorflow/lib/python3.5/site-packages/ipykernel_launcher.py:6: RuntimeWarning: overflow encountered in power\n",
      "  \n"
     ]
    },
    {
     "data": {
      "image/png": "[encoded data removed]",
      "text/plain": [
       "<Figure size 432x288 with 1 Axes>"
      ]
     },
     "metadata": {
      "needs_background": "light"
     },
     "output_type": "display_data"
    }
   ],
   "source": [
    "plt.figure()\n",
    "plt.plot(n, 2**(2**n), c='b', label='a')\n",
    "plt.plot(n, 2**(n**2), c='g', label='b')\n",
    "plt.plot(n, n**2 * np.log(n), c='r', label='c')\n",
    "plt.plot(n, n, c='k', label='d')\n",
    "plt.plot(n, n**(2**n), c='m', label='e')\n",
    "plt.legend()\n",
    "plt.show()"
   ]
  },
  {
   "cell_type": "code",
   "execution_count": 43,
   "metadata": {},
   "outputs": [
    {
     "name": "stderr",
     "output_type": "stream",
     "text": [
      "/Users/nrapstine/anaconda3/envs/tensorflow/lib/python3.5/site-packages/ipykernel_launcher.py:4: RuntimeWarning: overflow encountered in power\n",
      "  after removing the cwd from sys.path.\n"
     ]
    },
    {
     "data": {
      "image/png": "[encoded data removed]",
      "text/plain": [
       "<Figure size 432x288 with 1 Axes>"
      ]
     },
     "metadata": {
      "needs_background": "light"
     },
     "output_type": "display_data"
    }
   ],
   "source": [
    "plt.figure()\n",
    "# plt.plot(n, (n**2) * np.log(n), c='b', label='a')\n",
    "plt.plot(n, 2**(n), c='g', label='b')\n",
    "plt.plot(n, 2**(2**n), c='r', label='c')\n",
    "# plt.plot(n, n**(np.log(n)), c='k', label='d')\n",
    "# plt.plot(n, n**2, c='m', label='e')\n",
    "plt.legend()\n",
    "plt.show()"
   ]
  },
  {
   "cell_type": "code",
   "execution_count": null,
   "metadata": {},
   "outputs": [],
   "source": [
    "# 2^(log(n))\n",
    "# 2^2^log(n)\n",
    "# n^5/2\n",
    "# 2^n^2\n",
    "# n^2 log(n)\n",
    "plt.figure()\n",
    "plt.plot(n, 2**(np.log(n)), c='b', label='a')\n",
    "# plt.plot(n, 2**(2**(np.log(n))), c='g', label='b')\n",
    "# plt.plot(n, n**(5/2.), c='r', label='c')\n",
    "# plt.plot(n, 2**(n**2), c='k', label='d')\n",
    "# plt.plot(n, n**2 * np.log(n), c='m', label='e')\n",
    "plt.legend()\n",
    "plt.show()"
   ]
  },
  {
   "cell_type": "code",
   "execution_count": null,
   "metadata": {},
   "outputs": [],
   "source": [
    "plt.figure()\n",
    "# plt.plot(n, np.sqrt(n), c='b', label='a')\n",
    "plt.plot(n, 10.**n, c='g', label='b')\n",
    "# plt.plot(n, n**(1.5), c='r', label='c')\n",
    "# plt.plot(n, 2**(np.sqrt(np.log(n))), c='k', label='d')\n",
    "plt.plot(n, n**(5/3.), c='m', label='e')\n",
    "plt.legend()\n",
    "plt.show()"
   ]
  },
  {
   "cell_type": "markdown",
   "metadata": {},
   "source": [
    "Assignment 1\n",
    "\n",
    "To get the most out of this assignment, your program should restrict itself to multiplying only pairs of single-digit numbers. You can implement the grade-school algorithm if you want, but to get the most out of the assignment you'll want to implement recursive integer multiplication and/or Karatsuba's algorithm.\n",
    "\n",
    "\n",
    "So: what's the product of the following two 64-digit numbers?\n",
    "\n",
    "3141592653589793238462643383279502884197169399375105820974944592\n",
    "\n",
    "2718281828459045235360287471352662497757247093699959574966967627\n"
   ]
  },
  {
   "cell_type": "code",
   "execution_count": null,
   "metadata": {},
   "outputs": [],
   "source": [
    "def karatsuba(x, y):\n",
    "    nx = len(str(x))\n",
    "    ny = len(str(y))\n",
    "    \n",
    "    print('nx: ', nx)\n",
    "    print('ny: ', ny)\n",
    "    \n",
    "    # check the base case\n",
    "    # n/2 is a single digit\n",
    "    if nx == 1 and ny == 1:\n",
    "        print('here')\n",
    "        return np.int( x*y )\n",
    "    \n",
    "     \n",
    "    elif nx == 1 and ny == 2:\n",
    "        \n",
    "    elif ny == 1 and nx == 2:\n",
    "    \n",
    "    elif nx == 1 and ny == 3:\n",
    "        \n",
    "    elif nx == 3 and ny == 2:\n",
    "        \n",
    "    else:\n",
    "#         print('n: ', n)\n",
    "        # let x = 10**(n/2) * a + b and y = 10**(n/2) * c + d\n",
    "        # a, b, c, d are n/2-digit numbers\n",
    "#         if nx >= 2: \n",
    "        a = np.int( str(x)[: np.int( nx / 2 )] )\n",
    "        b = np.int( str(x)[np.int( nx / 2) : ] )\n",
    "\n",
    "\n",
    "#         if ny >= 2:\n",
    "        c = np.int( str(y)[: np.int( ny / 2 )] )\n",
    "        d = np.int( str(y)[np.int( ny / 2) : ] )\n",
    "            \n",
    "        # recursively compute ac, bd\n",
    "        ac = karatsuba(a, c)\n",
    "        bd = karatsuba(b, d)\n",
    "\n",
    "        # recursively compute (a + b)(c + d)\n",
    "        abcd = karatsuba(a+b, c+d)\n",
    "\n",
    "        # Gauss' trick: abcd - ac - bd = ad + bc\n",
    "        adbc = abcd - ac - bd\n",
    "\n",
    "        \n",
    "#         a = np.int( str(x)[: np.int( nx / 2 )] )\n",
    "#         b = np.int( str(x)[np.int( nx / 2) : ] )\n",
    "#         c = np.int( str(y)[: np.int( ny / 2 )] )\n",
    "#         d = np.int( str(y)[np.int( ny / 2) : ] )\n",
    "        print(a)\n",
    "        print(b)\n",
    "        print(c)\n",
    "        print(d)\n",
    "\n",
    "       \n",
    "        \n",
    "        \n",
    "        # compute and return x*y\n",
    "        return 10**(nx) * ac + 10**(ny/2) * adbc + bd"
   ]
  },
  {
   "cell_type": "code",
   "execution_count": null,
   "metadata": {},
   "outputs": [],
   "source": [
    "karatsuba(10, 20)"
   ]
  },
  {
   "cell_type": "code",
   "execution_count": null,
   "metadata": {},
   "outputs": [],
   "source": [
    "x = 3141592653589793238462643383279502884197169399375105820974944592\n",
    "y = 2718281828459045235360287471352662497757247093699959574966967627\n",
    "\n",
    "karatsuba(x, y)"
   ]
  },
  {
   "cell_type": "code",
   "execution_count": null,
   "metadata": {},
   "outputs": [],
   "source": []
  },
  {
   "cell_type": "code",
   "execution_count": null,
   "metadata": {},
   "outputs": [],
   "source": []
  }
 ],
 "metadata": {
  "kernelspec": {
   "display_name": "Python 3",
   "language": "python",
   "name": "python3"
  },
  "language_info": {
   "codemirror_mode": {
    "name": "ipython",
    "version": 3
   },
   "file_extension": ".py",
   "mimetype": "text/x-python",
   "name": "python",
   "nbconvert_exporter": "python",
   "pygments_lexer": "ipython3",
   "version": "3.5.6"
  }
 },
 "nbformat": 4,
 "nbformat_minor": 2
}
