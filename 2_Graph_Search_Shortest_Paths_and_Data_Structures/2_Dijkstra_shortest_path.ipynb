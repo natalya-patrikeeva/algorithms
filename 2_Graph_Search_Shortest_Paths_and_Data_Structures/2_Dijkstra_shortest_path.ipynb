{
 "cells": [
  {
   "cell_type": "markdown",
   "metadata": {},
   "source": [
    "The file `2_dijkstraData.txt` contains an adjacency list representation of an undirected weighted graph with 200 vertices labeled 1 to 200. Each row consists of the node tuples that are adjacent to that particular vertex along with the length of that edge. For example, the 6th row has 6 as the first entry indicating that this row corresponds to the vertex labeled 6. The next entry of this row \"141,8200\" indicates that there is an edge between vertex 6 and vertex 141 that has length 8200. The rest of the pairs of this row indicate the other vertices adjacent to vertex 6 and the lengths of the corresponding edges. \n",
    "\n",
    "Your task is to run Dijkstra's shortest-path algorithm on this graph, using 1 (the first vertex) as the source vertex, and to compute the shortest-path distances between 1 and every other vertex of the graph. If there is no path between a vertex vv and vertex 1, we'll define the shortest-path distance between 1 and vv to be 1000000. \n",
    "\n",
    "You should report the shortest-path distances to the following ten vertices, in order: 7,37,59,82,99,115,133,165,188,197. You should encode the distances as a comma-separated string of integers. So if you find that all ten of these vertices except 115 are at distance 1000 away from vertex 1 and 115 is 2000 distance away, then your answer should be 1000,1000,1000,1000,1000,2000,1000,1000,1000,1000. Remember the order of reporting DOES MATTER, and the string should be in the same order in which the above ten vertices are given. The string should not contain any spaces. \n",
    "\n",
    "IMPLEMENTATION NOTES: This graph is small enough that the straightforward *O(mn)* time implementation of Dijkstra's algorithm should work fine. OPTIONAL: Try implementing the heap-based version. Note this requires a heap that supports deletions, and you'll probably need to maintain some kind of mapping between vertices and their positions in the heap."
   ]
  },
  {
   "cell_type": "code",
   "execution_count": null,
   "metadata": {},
   "outputs": [],
   "source": [
    "# Dijkstra's shortest path algorithm\n",
    "# Initialize\n",
    "# - X = {s} [vertices processed so far]\n",
    "# - A[s] = 0 [computed shortest path distances]\n",
    "\n",
    "# Main Loop\n",
    "# - while X != V (need to grow X by one node)\n",
    "#   - among all edges (v, w) in E\n",
    "#     with v in X, w not in X, pick\n",
    "#     the one that minimizes A[v] + l_{vw} (Dijkstra's greedy score)\n",
    "#     [call it (v*, w*)]\n",
    "#   - add w* to X\n",
    "#   - set A[w*] := A[v*] + l_{v*w*}"
   ]
  },
  {
   "cell_type": "code",
   "execution_count": 8,
   "metadata": {},
   "outputs": [],
   "source": [
    "import numpy as np"
   ]
  },
  {
   "cell_type": "code",
   "execution_count": 9,
   "metadata": {},
   "outputs": [],
   "source": [
    "input_file = '2_dijkstraData.txt'"
   ]
  },
  {
   "cell_type": "code",
   "execution_count": 10,
   "metadata": {},
   "outputs": [],
   "source": [
    "# read in input graph\n",
    "with open(input_file) as f:\n",
    "    lines = f.readlines()"
   ]
  },
  {
   "cell_type": "code",
   "execution_count": 11,
   "metadata": {},
   "outputs": [],
   "source": [
    "N = len(lines)"
   ]
  },
  {
   "cell_type": "code",
   "execution_count": 12,
   "metadata": {},
   "outputs": [
    {
     "data": {
      "text/plain": [
       "'6\\t141,8200\\t98,5594\\t66,6627\\t159,9500\\t143,3110\\t129,8525\\t118,8547\\t88,2039\\t83,4949\\t165,6473\\t162,6897\\t184,8021\\t123,13\\t176,3512\\t195,2233\\t42,7265\\t47,274\\t132,1514\\t2,8847\\t171,3722\\t3,9006\\t\\n'"
      ]
     },
     "execution_count": 12,
     "metadata": {},
     "output_type": "execute_result"
    }
   ],
   "source": [
    "# node 6\n",
    "lines[5]"
   ]
  },
  {
   "cell_type": "code",
   "execution_count": 13,
   "metadata": {},
   "outputs": [],
   "source": [
    "def Dijkstra(input_file, s):\n",
    "    \"\"\"\n",
    "    Dijkstra's shortest-path algorithm.\n",
    "    \n",
    "    Input parameters:\n",
    "    input_file -- a text file containing two columns for tails and heads of the vertices\n",
    "    s -- source vertex from which to compute shortest distances to all other vertices.\n",
    "    \n",
    "    Output:\n",
    "    A[v] -- array with shortest distances for all vertices v from the source s.\n",
    "    \"\"\"\n",
    "    N = len(input_file)\n",
    "    A = np.empty(N,  dtype=np.int)\n",
    "    \n",
    "    # first vertex should be index 0\n",
    "    # last vertext (200) should be index N-1 (199)\n",
    "    A[s-1] = 0\n",
    "    \n",
    "    X = {s}\n",
    "    \n",
    "    # Main Loop\n",
    "    # - while X != V (need to grow X by one node)\n",
    "    #   - among all edges (v, w) in E\n",
    "    #     with v in X, w not in X, pick\n",
    "    #     the one that minimizes A[v] + l_{vw} (Dijkstra's greedy score)\n",
    "    #     [call it (v*, w*)]\n",
    "    #   - add w* to X\n",
    "    #   - set A[w*] := A[v*] + l_{v*w*}\n",
    "    \n",
    "    \n",
    "    "
   ]
  },
  {
   "cell_type": "code",
   "execution_count": 14,
   "metadata": {},
   "outputs": [],
   "source": [
    "Dijkstra('2_dijkstraData.txt', 1)"
   ]
  },
  {
   "cell_type": "code",
   "execution_count": null,
   "metadata": {},
   "outputs": [],
   "source": [
    "# nodes to return shortest paths for\n",
    "# 7,37,59,82,99,115,133,165,188,197"
   ]
  }
 ],
 "metadata": {
  "kernelspec": {
   "display_name": "Python 3",
   "language": "python",
   "name": "python3"
  },
  "language_info": {
   "codemirror_mode": {
    "name": "ipython",
    "version": 3
   },
   "file_extension": ".py",
   "mimetype": "text/x-python",
   "name": "python",
   "nbconvert_exporter": "python",
   "pygments_lexer": "ipython3",
   "version": "3.8.3"
  }
 },
 "nbformat": 4,
 "nbformat_minor": 4
}
