{
 "cells": [
  {
   "cell_type": "markdown",
   "metadata": {},
   "source": [
    "The file contains all of the integers between 1 and 10,000 (inclusive, with no repeats) in unsorted order. The integer in the $i^{th}$ row of the file gives you the $i^{th}$ entry of an input array.\n",
    "\n",
    "Your task is to compute the total number of comparisons used to sort the given input file by QuickSort. As you know, the number of comparisons depends on which elements are chosen as pivots, so we'll ask you to explore three different pivoting rules.\n",
    "\n",
    "You should not count comparisons one-by-one. Rather, when there is a recursive call on a subarray of length $m$, you should simply add $m−1$ to your running total of comparisons. (This is because the pivot element is compared to each of the other $m−1$ elements in the subarray in this recursive call.)"
   ]
  },
  {
   "cell_type": "code",
   "execution_count": null,
   "metadata": {
    "collapsed": true
   },
   "outputs": [],
   "source": [
    "import numpy as np"
   ]
  },
  {
   "cell_type": "markdown",
   "metadata": {},
   "source": [
    "1. For the first part of the programming assignment, you should always use the first element of the array as the pivot element."
   ]
  },
  {
   "cell_type": "code",
   "execution_count": null,
   "metadata": {
    "collapsed": true
   },
   "outputs": [],
   "source": [
    "def choose_pivot(A, l):\n",
    "    \n",
    "    # choose first element as the pivot\n",
    "    return A[l]"
   ]
  },
  {
   "cell_type": "code",
   "execution_count": null,
   "metadata": {
    "collapsed": true
   },
   "outputs": [],
   "source": [
    "# partition subarray A in place around a pivot\n",
    "def partition(A, l, r):\n",
    "    \n",
    "    # pivot\n",
    "    p = choose_pivot(A, l)    \n",
    "    i = l+1\n",
    "    \n",
    "    for j in range(l+1, r):\n",
    "        if A[j] < p:\n",
    "            # swap \n",
    "            tmp = A[i]\n",
    "            A[i] = A[j]\n",
    "            A[j] = tmp\n",
    "            \n",
    "            # increment i\n",
    "            i += 1\n",
    "            \n",
    "    # swap A[l] - pivot and A[i-1] \n",
    "    tmp = A[l]\n",
    "    A[l] = A[i-1]\n",
    "    A[i-1] = tmp\n",
    "    \n",
    "    # return partitioned A, index of pivot and length of subarray to sort\n",
    "    return A, i-1"
   ]
  },
  {
   "cell_type": "markdown",
   "metadata": {},
   "source": [
    "Check partition function:"
   ]
  },
  {
   "cell_type": "code",
   "execution_count": null,
   "metadata": {},
   "outputs": [],
   "source": [
    "a = np.fromfile('QuickSort.txt', sep='\\n', dtype=np.int)\n",
    "a = a[:10]\n",
    "print('A: ', a)\n",
    "partition(a, 0, 10)"
   ]
  },
  {
   "cell_type": "code",
   "execution_count": null,
   "metadata": {
    "collapsed": true
   },
   "outputs": [],
   "source": [
    "# count comparisions quicksort makes when we always choose the first element as the pivot\n",
    "def count_comparisons(A):\n",
    "    n = len(A)\n",
    "    \n",
    "    if n < 2 :\n",
    "        # if subarray is 0 or 1 length, it is already sorted, so return 0 to add to the comparison total\n",
    "        return 0\n",
    "    else:\n",
    "        \n",
    "        # partition A around p and return the index of pivot\n",
    "        A, i = partition(A, 0, n)\n",
    "        \n",
    "        # recursively sort 1st part to the left of the pivot\n",
    "        le_count = count_comparisons(A[ : i]) \n",
    "\n",
    "        # recursively sort 2nd part to the right of the pivot\n",
    "        ri_count = count_comparisons(A[i + 1 : ])\n",
    "\n",
    "        return le_count + ri_count + n-1"
   ]
  },
  {
   "cell_type": "markdown",
   "metadata": {},
   "source": [
    "Example 1:\n"
   ]
  },
  {
   "cell_type": "code",
   "execution_count": null,
   "metadata": {},
   "outputs": [],
   "source": [
    "a = np.fromfile('QuickSort.txt', sep='\\n', dtype=np.int)\n",
    "a = a[:10]\n",
    "print('A: ', a)\n",
    "count_comparisons(a)"
   ]
  },
  {
   "cell_type": "markdown",
   "metadata": {},
   "source": [
    "Example 2:"
   ]
  },
  {
   "cell_type": "code",
   "execution_count": null,
   "metadata": {},
   "outputs": [],
   "source": [
    "# for sumbission (correct answer is 162085)\n",
    "a = np.fromfile('QuickSort.txt', sep='\\n', dtype=np.int)\n",
    "count_comparisons(a)"
   ]
  },
  {
   "cell_type": "markdown",
   "metadata": {},
   "source": [
    "2. Compute the number of comparisons (as in Problem 1), always using the final element of the given array as the pivot element. Recall that, just before the main `Partition` subroutine, you should exchange the pivot element (i.e., the last element) with the first element."
   ]
  },
  {
   "cell_type": "code",
   "execution_count": null,
   "metadata": {
    "collapsed": true
   },
   "outputs": [],
   "source": []
  },
  {
   "cell_type": "code",
   "execution_count": null,
   "metadata": {
    "collapsed": true
   },
   "outputs": [],
   "source": []
  },
  {
   "cell_type": "code",
   "execution_count": null,
   "metadata": {
    "collapsed": true
   },
   "outputs": [],
   "source": []
  },
  {
   "cell_type": "code",
   "execution_count": null,
   "metadata": {
    "collapsed": true
   },
   "outputs": [],
   "source": [
    "def quick_sort(A):\n",
    "    \n",
    "    n = len(A)\n",
    "    \n",
    "    if n < 2 :\n",
    "        return A\n",
    "    else:\n",
    "        \n",
    "        # partition A around p and return the index of pivot\n",
    "        A, i= partition(A, 0, n)\n",
    "  \n",
    "        # recursively sort 1st part to the left of the pivot\n",
    "        quick_sort(A[ : i])\n",
    "\n",
    "        # recursively sort 2nd part to the right of the pivot\n",
    "        quick_sort(A[i + 1 : ])\n",
    "        \n",
    "    print('final A: ', A)\n"
   ]
  },
  {
   "cell_type": "code",
   "execution_count": null,
   "metadata": {
    "collapsed": true,
    "scrolled": false
   },
   "outputs": [],
   "source": [
    "a = np.fromfile('QuickSort.txt', sep='\\n', dtype=np.int)\n",
    "a = a[:10]\n",
    "print(a)\n",
    "quick_sort(a)"
   ]
  }
 ],
 "metadata": {
  "kernelspec": {
   "display_name": "Python 3",
   "language": "python",
   "name": "python3"
  },
  "language_info": {
   "codemirror_mode": {
    "name": "ipython",
    "version": 3
   },
   "file_extension": ".py",
   "mimetype": "text/x-python",
   "name": "python",
   "nbconvert_exporter": "python",
   "pygments_lexer": "ipython3",
   "version": "3.6.1"
  }
 },
 "nbformat": 4,
 "nbformat_minor": 2
}
