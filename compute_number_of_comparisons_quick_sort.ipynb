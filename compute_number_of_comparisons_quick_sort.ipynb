{
 "cells": [
  {
   "cell_type": "markdown",
   "metadata": {},
   "source": [
    "The file contains all of the integers between 1 and 10,000 (inclusive, with no repeats) in unsorted order. The integer in the $i^{th}$ row of the file gives you the $i^{th}$ entry of an input array.\n",
    "\n",
    "Your task is to compute the total number of comparisons used to sort the given input file by QuickSort. As you know, the number of comparisons depends on which elements are chosen as pivots, so we'll ask you to explore three different pivoting rules.\n",
    "\n",
    "You should not count comparisons one-by-one. Rather, when there is a recursive call on a subarray of length $m$, you should simply add $m−1$ to your running total of comparisons. (This is because the pivot element is compared to each of the other $m−1$ elements in the subarray in this recursive call.)"
   ]
  },
  {
   "cell_type": "code",
   "execution_count": 1,
   "metadata": {
    "collapsed": true
   },
   "outputs": [],
   "source": [
    "import numpy as np"
   ]
  },
  {
   "cell_type": "markdown",
   "metadata": {},
   "source": [
    "### Problem 1. \n",
    "For the first part of the programming assignment, you should always use the first element of the array as the pivot element."
   ]
  },
  {
   "cell_type": "code",
   "execution_count": 2,
   "metadata": {
    "collapsed": true
   },
   "outputs": [],
   "source": [
    "def choose_pivot(A, l):\n",
    "    \n",
    "    # choose first element as the pivot\n",
    "    return A[l]"
   ]
  },
  {
   "cell_type": "code",
   "execution_count": 3,
   "metadata": {
    "collapsed": true
   },
   "outputs": [],
   "source": [
    "# partition subarray A in place around a pivot\n",
    "def partition(A, l, r):\n",
    "    \n",
    "    # pivot\n",
    "    p = choose_pivot(A, l)    \n",
    "    i = l+1\n",
    "    \n",
    "    for j in range(l+1, r):\n",
    "        if A[j] < p:\n",
    "            # swap \n",
    "            tmp = A[i]\n",
    "            A[i] = A[j]\n",
    "            A[j] = tmp\n",
    "            \n",
    "            # increment i\n",
    "            i += 1\n",
    "            \n",
    "    # swap A[l] - pivot and A[i-1] \n",
    "    tmp = A[l]\n",
    "    A[l] = A[i-1]\n",
    "    A[i-1] = tmp\n",
    "    \n",
    "    # return partitioned A, index of pivot and length of subarray to sort\n",
    "    return A, i-1"
   ]
  },
  {
   "cell_type": "markdown",
   "metadata": {},
   "source": [
    "Check partition function:"
   ]
  },
  {
   "cell_type": "code",
   "execution_count": 4,
   "metadata": {},
   "outputs": [
    {
     "name": "stdout",
     "output_type": "stream",
     "text": [
      "A:  [2148 9058 7742 3153 6324  609 7628 5469 7017  504]\n"
     ]
    },
    {
     "data": {
      "text/plain": [
       "(array([ 504,  609, 2148, 3153, 6324, 9058, 7628, 5469, 7017, 7742]), 2)"
      ]
     },
     "execution_count": 4,
     "metadata": {},
     "output_type": "execute_result"
    }
   ],
   "source": [
    "a = np.fromfile('QuickSort.txt', sep='\\n', dtype=np.int)\n",
    "a = a[:10]\n",
    "print('A: ', a)\n",
    "partition(a, 0, 10)"
   ]
  },
  {
   "cell_type": "code",
   "execution_count": 5,
   "metadata": {
    "collapsed": true
   },
   "outputs": [],
   "source": [
    "# count comparisions quicksort makes when we always choose the first element as the pivot\n",
    "def count_comparisons(A):\n",
    "    n = len(A)\n",
    "    \n",
    "    if n < 2 :\n",
    "        # if subarray is 0 or 1 length, it is already sorted, so return 0 to add to the comparison total\n",
    "        return 0\n",
    "    else:\n",
    "        \n",
    "        # partition A around p and return the index of pivot\n",
    "        A, i = partition(A, 0, n)\n",
    "        \n",
    "        # recursively sort 1st part to the left of the pivot\n",
    "        le_count = count_comparisons(A[ : i]) \n",
    "\n",
    "        # recursively sort 2nd part to the right of the pivot\n",
    "        ri_count = count_comparisons(A[i + 1 : ])\n",
    "\n",
    "        return le_count + ri_count + n-1"
   ]
  },
  {
   "cell_type": "markdown",
   "metadata": {},
   "source": [
    "Example 1:\n"
   ]
  },
  {
   "cell_type": "code",
   "execution_count": 6,
   "metadata": {},
   "outputs": [
    {
     "name": "stdout",
     "output_type": "stream",
     "text": [
      "A:  [2148 9058 7742 3153 6324  609 7628 5469 7017  504]\n"
     ]
    },
    {
     "data": {
      "text/plain": [
       "25"
      ]
     },
     "execution_count": 6,
     "metadata": {},
     "output_type": "execute_result"
    }
   ],
   "source": [
    "a = np.fromfile('QuickSort.txt', sep='\\n', dtype=np.int)\n",
    "a = a[:10]\n",
    "print('A: ', a)\n",
    "count_comparisons(a)"
   ]
  },
  {
   "cell_type": "markdown",
   "metadata": {},
   "source": [
    "Example 2:"
   ]
  },
  {
   "cell_type": "code",
   "execution_count": 7,
   "metadata": {},
   "outputs": [
    {
     "data": {
      "text/plain": [
       "162085"
      ]
     },
     "execution_count": 7,
     "metadata": {},
     "output_type": "execute_result"
    }
   ],
   "source": [
    "# for sumbission (correct answer is 162085)\n",
    "a = np.fromfile('QuickSort.txt', sep='\\n', dtype=np.int)\n",
    "count_comparisons(a)"
   ]
  },
  {
   "cell_type": "markdown",
   "metadata": {},
   "source": [
    "### Problem 2.\n",
    "Compute the number of comparisons (as in Problem 1), always using the final element of the given array as the pivot element. Recall that, just before the main `Partition` subroutine, you should exchange the pivot element (i.e., the last element) with the first element."
   ]
  },
  {
   "cell_type": "code",
   "execution_count": 8,
   "metadata": {
    "collapsed": true
   },
   "outputs": [],
   "source": [
    "# partition subarray A in place around a pivot\n",
    "def partition(A, l, r):\n",
    "    # swap last and first elements\n",
    "    tmp = A[l]\n",
    "    A[l] = A[r-1]\n",
    "    A[r-1] = tmp\n",
    "    \n",
    "    # pivot\n",
    "    p = choose_pivot(A, l)    \n",
    "    i = l+1\n",
    "    \n",
    "    for j in range(l+1, r):\n",
    "        if A[j] < p:\n",
    "            # swap \n",
    "            tmp = A[i]\n",
    "            A[i] = A[j]\n",
    "            A[j] = tmp\n",
    "            \n",
    "            # increment i\n",
    "            i += 1\n",
    "            \n",
    "    # swap A[l] - pivot and A[i-1] \n",
    "    tmp = A[l]\n",
    "    A[l] = A[i-1]\n",
    "    A[i-1] = tmp\n",
    "    \n",
    "    # return partitioned A, index of pivot and length of subarray to sort\n",
    "    return A, i-1"
   ]
  },
  {
   "cell_type": "code",
   "execution_count": 9,
   "metadata": {
    "collapsed": true
   },
   "outputs": [],
   "source": [
    "# count comparisions quicksort makes when we always choose the last element as the pivot\n",
    "def count_comparisons(A):\n",
    "    n = len(A)\n",
    "    \n",
    "    if n < 2 :\n",
    "        # if subarray is 0 or 1 length, it is already sorted, so return 0 to add to the comparison total\n",
    "        return 0\n",
    "    else:\n",
    "                \n",
    "        # partition A around p and return the index of pivot\n",
    "        A, i = partition(A, 0, n)\n",
    "        \n",
    "        # recursively sort 1st part to the left of the pivot\n",
    "        le_count = count_comparisons(A[ : i]) \n",
    "\n",
    "        # recursively sort 2nd part to the right of the pivot\n",
    "        ri_count = count_comparisons(A[i + 1 : ])\n",
    "\n",
    "        return le_count + ri_count + n-1"
   ]
  },
  {
   "cell_type": "markdown",
   "metadata": {},
   "source": [
    "Example 1:\n"
   ]
  },
  {
   "cell_type": "code",
   "execution_count": 10,
   "metadata": {},
   "outputs": [
    {
     "name": "stdout",
     "output_type": "stream",
     "text": [
      "A:  [2148 9058 7742 3153 6324  609 7628 5469 7017  504]\n"
     ]
    },
    {
     "data": {
      "text/plain": [
       "31"
      ]
     },
     "execution_count": 10,
     "metadata": {},
     "output_type": "execute_result"
    }
   ],
   "source": [
    "a = np.fromfile('QuickSort.txt', sep='\\n', dtype=np.int)\n",
    "a = a[:10]\n",
    "print('A: ', a)\n",
    "count_comparisons(a)"
   ]
  },
  {
   "cell_type": "markdown",
   "metadata": {},
   "source": [
    "Example 2:"
   ]
  },
  {
   "cell_type": "code",
   "execution_count": 11,
   "metadata": {},
   "outputs": [
    {
     "data": {
      "text/plain": [
       "164123"
      ]
     },
     "execution_count": 11,
     "metadata": {},
     "output_type": "execute_result"
    }
   ],
   "source": [
    "# for sumbission (correct answer is 164123)\n",
    "a = np.fromfile('QuickSort.txt', sep='\\n', dtype=np.int)\n",
    "count_comparisons(a)"
   ]
  },
  {
   "cell_type": "markdown",
   "metadata": {},
   "source": [
    "### Problem 3.\n",
    "Compute the number of comparisons (as in Problem 1), using the \"median-of-three\" pivot rule. [The primary motivation behind this rule is to do a little bit of extra work to get much better performance on input arrays that are nearly sorted or reverse sorted.] In more detail, you should choose the pivot as follows. Consider the first, middle, and final elements of the given array. (If the array has odd length it should be clear what the \"middle\" element is; for an array with even length $2k$, use the $k^{th}$ element as the \"middle\" element. So for the array 4 5 6 7, the \"middle\" element is the second one - 5 and not 6!) Identify which of these three elements is the median (i.e., the one whose value is in between the other two), and use this as your pivot. "
   ]
  },
  {
   "cell_type": "code",
   "execution_count": 12,
   "metadata": {},
   "outputs": [],
   "source": [
    "# partition subarray A in place around a pivot\n",
    "def partition(A, l, r):\n",
    "    \n",
    "    # identify the set of three: first, middle, and last elements\n",
    "    ar = np.empty(3)\n",
    "    ar[0] = A[l]\n",
    "    \n",
    "    # middle element\n",
    "    # if A is even\n",
    "    if len(A) % 2 == 0:\n",
    "        ar[1] = A[np.int( (r-l) / 2 - 1 )] \n",
    "\n",
    "    # if A is odd\n",
    "    else:\n",
    "        ar[1] = A[ np.int( r-l ) // 2] \n",
    "        \n",
    "    ar[2] = A[r-1]  \n",
    "    \n",
    "        \n",
    "    # pivot is the median of the three elements\n",
    "    p_index = np.where(A == np.median(ar))\n",
    "    \n",
    "    # swap pivot and first elements\n",
    "    tmp = A[l]\n",
    "    A[l] = A[p_index]\n",
    "    A[p_index] = tmp\n",
    "    \n",
    "    # pivot\n",
    "    p = choose_pivot(A, l)    \n",
    "    i = l+1\n",
    "    \n",
    "    for j in range(l+1, r):\n",
    "        if A[j] < p:\n",
    "            # swap \n",
    "            tmp = A[i]\n",
    "            A[i] = A[j]\n",
    "            A[j] = tmp\n",
    "            \n",
    "            # increment i\n",
    "            i += 1\n",
    "            \n",
    "    # swap A[l] - pivot and A[i-1] \n",
    "    tmp = A[l]\n",
    "    A[l] = A[i-1]\n",
    "    A[i-1] = tmp\n",
    "    \n",
    "    # return partitioned A, index of pivot and length of subarray to sort\n",
    "    return A, i-1"
   ]
  },
  {
   "cell_type": "code",
   "execution_count": 13,
   "metadata": {
    "collapsed": true
   },
   "outputs": [],
   "source": [
    "# count comparisions quicksort makes when we implement the median-of-three pivot rule\n",
    "def count_comparisons(A):\n",
    "    n = len(A)\n",
    "    \n",
    "    if n < 2 :\n",
    "        # if subarray is 0 or 1 length, it is already sorted, so return 0 to add to the comparison total\n",
    "        return 0\n",
    "    else:\n",
    "                \n",
    "        # partition A around p and return the index of pivot\n",
    "        A, i = partition(A, 0, n)\n",
    "        \n",
    "        # recursively sort 1st part to the left of the pivot\n",
    "        le_count = count_comparisons(A[ : i]) \n",
    "\n",
    "        # recursively sort 2nd part to the right of the pivot\n",
    "        ri_count = count_comparisons(A[i + 1 : ])\n",
    "\n",
    "        return le_count + ri_count + n-1"
   ]
  },
  {
   "cell_type": "markdown",
   "metadata": {},
   "source": [
    "Example 1:\n"
   ]
  },
  {
   "cell_type": "code",
   "execution_count": 14,
   "metadata": {},
   "outputs": [
    {
     "name": "stdout",
     "output_type": "stream",
     "text": [
      "A:  [2148 9058 7742 3153 6324  609 7628 5469 7017  504]\n"
     ]
    },
    {
     "data": {
      "text/plain": [
       "21"
      ]
     },
     "execution_count": 14,
     "metadata": {},
     "output_type": "execute_result"
    }
   ],
   "source": [
    "a = np.fromfile('QuickSort.txt', sep='\\n', dtype=np.int)\n",
    "a = a[:10]\n",
    "print('A: ', a)\n",
    "count_comparisons(a)"
   ]
  },
  {
   "cell_type": "markdown",
   "metadata": {},
   "source": [
    "Example 2:"
   ]
  },
  {
   "cell_type": "code",
   "execution_count": 15,
   "metadata": {},
   "outputs": [
    {
     "data": {
      "text/plain": [
       "138382"
      ]
     },
     "execution_count": 15,
     "metadata": {},
     "output_type": "execute_result"
    }
   ],
   "source": [
    "# for sumbission (correct answer is 164123)\n",
    "a = np.fromfile('QuickSort.txt', sep='\\n', dtype=np.int)\n",
    "count_comparisons(a)"
   ]
  }
 ],
 "metadata": {
  "kernelspec": {
   "display_name": "Python 3",
   "language": "python",
   "name": "python3"
  },
  "language_info": {
   "codemirror_mode": {
    "name": "ipython",
    "version": 3
   },
   "file_extension": ".py",
   "mimetype": "text/x-python",
   "name": "python",
   "nbconvert_exporter": "python",
   "pygments_lexer": "ipython3",
   "version": "3.6.1"
  }
 },
 "nbformat": 4,
 "nbformat_minor": 2
}
