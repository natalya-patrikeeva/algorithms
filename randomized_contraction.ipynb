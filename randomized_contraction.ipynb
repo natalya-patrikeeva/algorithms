{
 "cells": [
  {
   "cell_type": "markdown",
   "metadata": {},
   "source": [
    "The file `kargerMinCut.txt` contains the adjacency list representation of a simple undirected graph. There are 200 vertices labeled 1 to 200. The first column in the file represents the vertex label, and the particular row (other entries except the first column) tells all the vertices that the vertex is adjacent to. So for example, the 6$^{th}$ \n",
    "th row looks like : `6\t155\t56\t52\t120\t...`. This just means that the vertex with label 6 is adjacent to (i.e., shares an edge with) the vertices with labels 155, 56, 52, 120, ... , etc.\n",
    "\n",
    "Your task is to code up and run the randomized contraction algorithm for the min cut problem and use it on the above graph to compute the min cut. (HINT: Note that you'll have to figure out an implementation of edge contractions. Initially, you might want to do this naively, creating a new graph from the old every time there's an edge contraction. But you should also think about more efficient implementations.) (WARNING: As per the video lectures, please make sure to run the algorithm many times with different random seeds, and remember the smallest cut that you ever find.) "
   ]
  },
  {
   "cell_type": "code",
   "execution_count": 1,
   "metadata": {
    "collapsed": true
   },
   "outputs": [],
   "source": [
    "import numpy as np"
   ]
  },
  {
   "cell_type": "code",
   "execution_count": null,
   "metadata": {},
   "outputs": [],
   "source": [
    "# Randomized Contraction (N-2 iterations)\n",
    "\n",
    "# While there are more than 2 vertices:\n",
    "#   - pick a remaining edge (u, v) uniformly at random\n",
    "#   - merge (or \"contract\") u and v into a single vertex\n",
    "#   - remove self-loops\n",
    "# return cut represented by final 2 vertices"
   ]
  },
  {
   "cell_type": "code",
   "execution_count": 80,
   "metadata": {},
   "outputs": [],
   "source": [
    "# count number of edges\n",
    "def number_edges(G):\n",
    "    list_nodes_seen = []\n",
    "    edges = []\n",
    "    for row in G:\n",
    "        # for each row count edges and add them to total count of edges\n",
    "        for i, e in enumerate(row):\n",
    "            if i == 0:\n",
    "                list_nodes_seen.append(e)\n",
    "            else:\n",
    "                if e not in list_nodes_seen:\n",
    "                    edges.append((row[0], e))\n",
    "    return edges"
   ]
  },
  {
   "cell_type": "code",
   "execution_count": 85,
   "metadata": {},
   "outputs": [],
   "source": [
    "# testing number_edges function\n",
    "G = [np.array([1, 2, 4]), \n",
    "     np.array([2, 1, 3, 4]),\n",
    "     np.array([3, 2, 4]),\n",
    "     np.array([4, 1, 2, 3])]"
   ]
  },
  {
   "cell_type": "code",
   "execution_count": 86,
   "metadata": {},
   "outputs": [
    {
     "data": {
      "text/plain": [
       "[(1, 2), (1, 4), (2, 3), (2, 4), (3, 4)]"
      ]
     },
     "execution_count": 86,
     "metadata": {},
     "output_type": "execute_result"
    }
   ],
   "source": [
    "number_edges(G)"
   ]
  },
  {
   "cell_type": "code",
   "execution_count": 93,
   "metadata": {},
   "outputs": [],
   "source": [
    "def randomized_contraction(G):\n",
    "    \n",
    "    # nodes in the graph\n",
    "    N = len(G)\n",
    "    \n",
    "    # list of edges\n",
    "    edges = number_edges(G)\n",
    "    \n",
    "    while len(edges) > 1:\n",
    "        \n",
    "        # randomly pick one edge\n",
    "        i = np.random.randint(len(edges), dtype='int')\n",
    "        \n",
    "        # contract that edge and return new G without that edge\n",
    "        \n",
    "        new_edge_list = edges.pop(i)\n",
    "        print(new_edge_list)\n",
    "        \n",
    "        # return the cut represented by last two remaining vertices\n",
    "        \n",
    "        \n",
    "    "
   ]
  },
  {
   "cell_type": "code",
   "execution_count": 95,
   "metadata": {},
   "outputs": [
    {
     "name": "stdout",
     "output_type": "stream",
     "text": [
      "(2, 4)\n",
      "(1, 2)\n",
      "(3, 4)\n",
      "(1, 4)\n"
     ]
    }
   ],
   "source": [
    "np.random.seed(seed=42)\n",
    "\n",
    "randomized_contraction(G)"
   ]
  },
  {
   "cell_type": "code",
   "execution_count": 11,
   "metadata": {},
   "outputs": [],
   "source": [
    "G = []\n",
    "\n",
    "with open('kargerMinCut.txt') as f:\n",
    "    lines = f.readlines()\n",
    "    for line in lines:\n",
    "        myarray = np.fromstring(line, dtype=int, sep='\\n')\n",
    "        G.append(myarray) "
   ]
  },
  {
   "cell_type": "code",
   "execution_count": 12,
   "metadata": {},
   "outputs": [
    {
     "data": {
      "text/plain": [
       "200"
      ]
     },
     "execution_count": 12,
     "metadata": {},
     "output_type": "execute_result"
    }
   ],
   "source": [
    "len(G)"
   ]
  },
  {
   "cell_type": "code",
   "execution_count": 13,
   "metadata": {},
   "outputs": [
    {
     "data": {
      "text/plain": [
       "[array([  1,  37,  79, 164, 155,  32,  87,  39, 113,  15,  18,  78, 175,\n",
       "        140, 200,   4, 160,  97, 191, 100,  91,  20,  69, 198, 196]),\n",
       " array([  2, 123, 134,  10, 141,  13,  12,  43,  47,   3, 177, 101, 179,\n",
       "         77, 182, 117, 116,  36, 103,  51, 154, 162, 128,  30])]"
      ]
     },
     "execution_count": 13,
     "metadata": {},
     "output_type": "execute_result"
    }
   ],
   "source": [
    "G[0:2]"
   ]
  },
  {
   "cell_type": "code",
   "execution_count": null,
   "metadata": {},
   "outputs": [],
   "source": []
  }
 ],
 "metadata": {
  "kernelspec": {
   "display_name": "Python 3",
   "language": "python",
   "name": "python3"
  },
  "language_info": {
   "codemirror_mode": {
    "name": "ipython",
    "version": 3
   },
   "file_extension": ".py",
   "mimetype": "text/x-python",
   "name": "python",
   "nbconvert_exporter": "python",
   "pygments_lexer": "ipython3",
   "version": "3.5.6"
  }
 },
 "nbformat": 4,
 "nbformat_minor": 2
}
