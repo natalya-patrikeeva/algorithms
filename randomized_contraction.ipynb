{
 "cells": [
  {
   "cell_type": "markdown",
   "metadata": {},
   "source": [
    "The file `kargerMinCut.txt` contains the adjacency list representation of a simple undirected graph. There are 200 vertices labeled 1 to 200. The first column in the file represents the vertex label, and the particular row (other entries except the first column) tells all the vertices that the vertex is adjacent to. So for example, the 6$^{th}$ \n",
    "th row looks like : `6\t155\t56\t52\t120\t...`. This just means that the vertex with label 6 is adjacent to (i.e., shares an edge with) the vertices with labels 155, 56, 52, 120, ... , etc.\n",
    "\n",
    "Your task is to code up and run the randomized contraction algorithm for the min cut problem and use it on the above graph to compute the min cut. (HINT: Note that you'll have to figure out an implementation of edge contractions. Initially, you might want to do this naively, creating a new graph from the old every time there's an edge contraction. But you should also think about more efficient implementations.) (WARNING: As per the video lectures, please make sure to run the algorithm many times with different random seeds, and remember the smallest cut that you ever find.) "
   ]
  },
  {
   "cell_type": "code",
   "execution_count": null,
   "metadata": {
    "collapsed": true
   },
   "outputs": [],
   "source": [
    "# Randomized Contraction (N-2 iterations)\n",
    "\n",
    "# While there are more than 2 vertices:\n",
    "#   - pick a remaining edge (u, v) uniformly at random\n",
    "#   - merge (or \"contract\") u and v into a single vertex\n",
    "#   - remove self-loops\n",
    "# return cut represented by final 2 vertices"
   ]
  },
  {
   "cell_type": "code",
   "execution_count": 1,
   "metadata": {
    "collapsed": true
   },
   "outputs": [],
   "source": [
    "import numpy as np"
   ]
  },
  {
   "cell_type": "code",
   "execution_count": 2,
   "metadata": {},
   "outputs": [],
   "source": [
    "G = {}\n",
    "\n",
    "with open('kargerMinCut.txt') as f:\n",
    "    lines = f.readlines()\n",
    "    for line in lines:\n",
    "        tmp = np.fromstring(line, dtype=int, sep='\\n').tolist()\n",
    "        G[ tmp[0] ] =  tmp[1:]"
   ]
  },
  {
   "cell_type": "code",
   "execution_count": 3,
   "metadata": {
    "collapsed": true
   },
   "outputs": [],
   "source": [
    "# save edges and nodes to lists \n",
    "def edges_nodes(G):\n",
    "    list_nodes_seen = []\n",
    "    edges = []\n",
    "    for key, val in G.items():\n",
    "        \n",
    "        list_nodes_seen.append(key)\n",
    "        \n",
    "        # for each key append edges between two nodes\n",
    "        for i, e in enumerate(val):\n",
    "            if e not in list_nodes_seen:\n",
    "                edges.append((key, e))\n",
    "                \n",
    "    return edges, list_nodes_seen"
   ]
  },
  {
   "cell_type": "code",
   "execution_count": 4,
   "metadata": {},
   "outputs": [],
   "source": [
    "def randomized_contraction(G):\n",
    "    \n",
    "    # nodes in the graph\n",
    "    N = len(G)\n",
    "    \n",
    "    # list of edges\n",
    "    edges, all_nodes = edges_nodes(G)\n",
    "    \n",
    "    # while there are more than 2 nodes remaining\n",
    "    while len(all_nodes) > 2:\n",
    "              \n",
    "        # randomly pick one edge\n",
    "        i = np.random.randint(len(edges), dtype='int')\n",
    "        \n",
    "        # contract that edge and return new G without that edge\n",
    "        d = edges.pop(i)\n",
    "        \n",
    "        # modify edges and all_nodes to have a supernode        \n",
    "        newG = {}\n",
    "    \n",
    "        # merge two rows of G into one contracted array    \n",
    "        contracted_array = []\n",
    "        contracted_array.append((d[0], d[1]))\n",
    "        \n",
    "        for a in G[d[0]]: \n",
    "            if a not in d:\n",
    "                contracted_array.append(a)\n",
    "        for b in G[d[1]]:\n",
    "            if b not in d:\n",
    "                contracted_array.append(b)\n",
    "      \n",
    "        for key, val in G.items():\n",
    "            if key == d[0]:\n",
    "                newG[key] = contracted_array\n",
    "            elif key == d[1]:\n",
    "                continue\n",
    "                \n",
    "            else: # for the rest of keys not d[0] or d[1]\n",
    "                \n",
    "                if (d[0] in val) or (d[1] in val):\n",
    "                    \n",
    "                    tmp = []\n",
    "                    for aa in val:\n",
    "                        if aa == d[0] or aa == d[1]:\n",
    "                            tmp.append(d)\n",
    "                        else:\n",
    "                            tmp.append(aa)\n",
    "                    newG[key] = tmp\n",
    "                    \n",
    "                else:\n",
    "                    newG[key] = val                \n",
    "       \n",
    "        # relabel nodes such that there are no tuples\n",
    "        for key, val in newG.items():\n",
    "            for ii, aa in enumerate(val): \n",
    "                # convert tuple supernode into int label\n",
    "                if type(aa) == tuple:\n",
    "                    newG[key][ii] = d[0]\n",
    "                                        \n",
    "        \n",
    "        edges, all_nodes = edges_nodes(newG)\n",
    "        \n",
    "        # delete self loops\n",
    "        for key, val in newG.items():\n",
    "            for ii, aa in enumerate(val): \n",
    "                if key == aa:\n",
    "                    val.pop(ii)\n",
    "\n",
    "        G = newG\n",
    "        \n",
    "    # return the min cut represented by last two remaining vertices\n",
    "    return len(edges)\n",
    "    "
   ]
  },
  {
   "cell_type": "code",
   "execution_count": 5,
   "metadata": {},
   "outputs": [
    {
     "name": "stdout",
     "output_type": "stream",
     "text": [
      "min cut:  17\n",
      "CPU times: user 10min 48s, sys: 12.4 s, total: 11min 1s\n",
      "Wall time: 11min 17s\n"
     ]
    }
   ],
   "source": [
    "%%time\n",
    "# loop over random seeds, output the mincut from a lot of random runs\n",
    "mincut = np.inf\n",
    "for i in range(1000):\n",
    "    np.random.seed(seed=i)\n",
    "    tmp = randomized_contraction(G)\n",
    "    if tmp < mincut:\n",
    "        mincut = tmp\n",
    "\n",
    "print('min cut: ', mincut)"
   ]
  }
 ],
 "metadata": {
  "kernelspec": {
   "display_name": "Python 3",
   "language": "python",
   "name": "python3"
  },
  "language_info": {
   "codemirror_mode": {
    "name": "ipython",
    "version": 3
   },
   "file_extension": ".py",
   "mimetype": "text/x-python",
   "name": "python",
   "nbconvert_exporter": "python",
   "pygments_lexer": "ipython3",
   "version": "3.6.1"
  }
 },
 "nbformat": 4,
 "nbformat_minor": 2
}
